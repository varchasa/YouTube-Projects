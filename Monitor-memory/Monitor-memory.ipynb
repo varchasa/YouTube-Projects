{
 "cells": [
  {
   "cell_type": "code",
   "execution_count": 1,
   "metadata": {},
   "outputs": [
    {
     "name": "stdout",
     "output_type": "stream",
     "text": [
      "Square root of 625 :  25.0 \n",
      "\n",
      "Memory consumed by program :  6866\n",
      "Peak memory :  18934\n"
     ]
    }
   ],
   "source": [
    "import tracemalloc as tm\n",
    "import math\n",
    "\n",
    "tm.start()\n",
    "print(\"Square root of 625 : \",math.sqrt(625),\"\\n\")\n",
    "\n",
    "a,b = tm.get_traced_memory()\n",
    "print(\"Memory consumed by program : \",a)\n",
    "print(\"Peak memory : \",b)\n",
    "tm.stop()"
   ]
  },
  {
   "cell_type": "code",
   "execution_count": null,
   "metadata": {},
   "outputs": [],
   "source": []
  }
 ],
 "metadata": {
  "kernelspec": {
   "display_name": "Python 3",
   "language": "python",
   "name": "python3"
  },
  "language_info": {
   "codemirror_mode": {
    "name": "ipython",
    "version": 3
   },
   "file_extension": ".py",
   "mimetype": "text/x-python",
   "name": "python",
   "nbconvert_exporter": "python",
   "pygments_lexer": "ipython3",
   "version": "3.6.4"
  }
 },
 "nbformat": 4,
 "nbformat_minor": 4
}
