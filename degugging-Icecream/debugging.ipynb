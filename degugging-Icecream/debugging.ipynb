{
 "cells": [
  {
   "cell_type": "code",
   "execution_count": 8,
   "metadata": {},
   "outputs": [],
   "source": [
    "from icecream import ic\n"
   ]
  },
  {
   "cell_type": "code",
   "execution_count": 9,
   "metadata": {},
   "outputs": [
    {
     "name": "stderr",
     "output_type": "stream",
     "text": [
      "ic| a: 8\n"
     ]
    }
   ],
   "source": [
    "a = 8 \n",
    "b = ic(a)"
   ]
  },
  {
   "cell_type": "code",
   "execution_count": 11,
   "metadata": {},
   "outputs": [
    {
     "name": "stderr",
     "output_type": "stream",
     "text": [
      "ic| half(a): 4.0\n"
     ]
    }
   ],
   "source": [
    "a = 8\n",
    "def half(i):\n",
    "    return i/2\n",
    "b = ic(half(a))"
   ]
  },
  {
   "cell_type": "code",
   "execution_count": 12,
   "metadata": {},
   "outputs": [
    {
     "name": "stderr",
     "output_type": "stream",
     "text": [
      "ic| l: [1, 2, 3, 4, 5]\n"
     ]
    }
   ],
   "source": [
    "l = [1,2,3,4,5]\n",
    "b = ic(l)"
   ]
  },
  {
   "cell_type": "markdown",
   "metadata": {},
   "source": [
    "# enable and disble"
   ]
  },
  {
   "cell_type": "code",
   "execution_count": 13,
   "metadata": {},
   "outputs": [
    {
     "name": "stderr",
     "output_type": "stream",
     "text": [
      "ic| 3\n"
     ]
    },
    {
     "data": {
      "text/plain": [
       "3"
      ]
     },
     "execution_count": 13,
     "metadata": {},
     "output_type": "execute_result"
    }
   ],
   "source": [
    "ic.disable()\n",
    "ic(2)\n",
    "ic.enable()\n",
    "ic(3)"
   ]
  },
  {
   "cell_type": "code",
   "execution_count": 14,
   "metadata": {},
   "outputs": [
    {
     "name": "stdout",
     "output_type": "stream",
     "text": [
      "30\n"
     ]
    },
    {
     "name": "stderr",
     "output_type": "stream",
     "text": [
      "ic| i: 4, j: 3, k: 5\n",
      "ic| i: 8, j: 6, k: 10\n",
      "ic| i: 12, j: 5, k: 13\n",
      "ic| i: 12, j: 9, k: 15\n",
      "ic| i: 15, j: 8, k: 17\n",
      "ic| i: 16, j: 12, k: 20\n",
      "ic| i: 20, j: 15, k: 25\n",
      "ic| i: 21, j: 20, k: 29\n",
      "ic| i: 24, j: 7, k: 25\n",
      "ic| i: 24, j: 10, k: 26\n",
      "ic| i: 24, j: 18, k: 30\n"
     ]
    }
   ],
   "source": [
    "import math \n",
    "n = int(input())\n",
    "if(n<=2):\n",
    "    print(\"No triplets exist\")\n",
    "else:\n",
    "    for i in range(2,n):\n",
    "        for j in range(1,i):\n",
    "            k = math.sqrt(i*i + j*j)\n",
    "            if(k%1==0 and k<=n):\n",
    "                k = int(k)\n",
    "                a = ic(i,j,k)"
   ]
  },
  {
   "cell_type": "code",
   "execution_count": null,
   "metadata": {},
   "outputs": [],
   "source": []
  }
 ],
 "metadata": {
  "kernelspec": {
   "display_name": "Python 3",
   "language": "python",
   "name": "python3"
  },
  "language_info": {
   "codemirror_mode": {
    "name": "ipython",
    "version": 3
   },
   "file_extension": ".py",
   "mimetype": "text/x-python",
   "name": "python",
   "nbconvert_exporter": "python",
   "pygments_lexer": "ipython3",
   "version": "3.6.4"
  }
 },
 "nbformat": 4,
 "nbformat_minor": 4
}
